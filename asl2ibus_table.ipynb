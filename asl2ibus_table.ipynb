{
 "cells": [
  {
   "cell_type": "code",
   "execution_count": 105,
   "metadata": {},
   "outputs": [],
   "source": [
    "from xml.dom import minidom\n",
    "\n",
    "with open('ogsl.asl', 'r') as infile:\n",
    "    asl = infile.read()\n"
   ]
  },
  {
   "cell_type": "code",
   "execution_count": 106,
   "metadata": {},
   "outputs": [],
   "source": [
    "reps = [\n",
    "['š','sz'],\n",
    "['Š','SZ'],\n",
    "['ṣ','s,'],\n",
    "['Ṣ','S,'],\n",
    "['ṭ','t,'],\n",
    "['Ṭ','T,'],\n",
    "['ś',\"s'\"],\n",
    "['Ś',\"S'\"],\n",
    "['ʾ',\"'\"],\n",
    "['₀','0'],\n",
    "['₁','1'],\n",
    "['₂','2'],\n",
    "['₃','3'],\n",
    "['₄','4'],\n",
    "['₅','5'],\n",
    "['₆','6'],\n",
    "['₇','7'],\n",
    "['₈','8'],\n",
    "['₉','9'],\n",
    "['ₓ','x'],\n",
    "['ḫ','h,'],\n",
    "['Ḫ','H,'],\n",
    "['ŋ','j'],\n",
    "['Ŋ','J'],\n",
    "['û','u'],\n",
    "['ā','aa'],\n",
    "['ē','ee'],\n",
    "['ī','ii'],\n",
    "['ū','uu'],\n",
    "    ['×','x'],\n",
    "    ['°','0'],\n",
    "    ['·','.'],\n",
    "    ['⁺','+'],\n",
    "    ['⁻','-'],\n",
    "    ['𒑱',':'],\n",
    "]\n",
    "\n",
    "def to_ascii(s):\n",
    "    for fro, to in reps:\n",
    "        s=s.replace(fro, to)\n",
    "    return s\n",
    "    "
   ]
  },
  {
   "cell_type": "code",
   "execution_count": 107,
   "metadata": {},
   "outputs": [
    {
     "name": "stdout",
     "output_type": "stream",
     "text": [
      "𒀀𒂔𒈾\n",
      "𒀀\n"
     ]
    }
   ],
   "source": [
    "def unistr2unicode(x):\n",
    "    x=x.replace('X', \"x58\") # replace X with unicode X\n",
    "    x=x.replace('None', \"x58\") # replace None with unicode X (|UD.MA₂.AB×(U.U.U).ŠIR|)\n",
    "    return ''.join(chr(int(y[1:], base=16)) for y in x.split('.'))\n",
    "print(unistr2unicode(\"x12000.x12094.x1223E\"))\n",
    "print(unistr2unicode(\"x12000\"))\n"
   ]
  },
  {
   "cell_type": "code",
   "execution_count": 108,
   "metadata": {},
   "outputs": [],
   "source": [
    "def maybeadd(reading,unic,sign=''):\n",
    "    reading=to_ascii(reading).strip('|')\n",
    "    sign=to_ascii(sign).strip('|')\n",
    "    if reading not in mapping:\n",
    "        mapping[reading]={(unic,sign)}\n",
    "    else:\n",
    "        mapping[reading].add((unic,sign))\n"
   ]
  },
  {
   "cell_type": "code",
   "execution_count": 109,
   "metadata": {},
   "outputs": [
    {
     "data": {
      "text/plain": [
       "{('𒀀𒇉𒌓𒉣𒆠', 'A.LAGABxHAL.UD.NUN.KI'), ('𒌓𒉣', 'UD.NUN')}"
      ]
     },
     "execution_count": 109,
     "metadata": {},
     "output_type": "execute_result"
    }
   ],
   "source": [
    "mapping = {}\n",
    "\n",
    "funic = None\n",
    "unic = None\n",
    "form = False\n",
    "for line in asl.splitlines():\n",
    "    if line ==\"\":\n",
    "        continue\n",
    "    if line.startswith(\"@sign\"):\n",
    "        #print(line)\n",
    "        sign = line.split()[1]\n",
    "    if line==\"@end sign\":\n",
    "        if sign and unic and not form:\n",
    "            maybeadd(sign, unic)\n",
    "        if sign and funic and form: # end sign also ends last form\n",
    "            maybeadd(sign, funic)\n",
    "        form = False\n",
    "        unic = None\n",
    "        funic = None\n",
    "        sign = None\n",
    "        \n",
    "    if line.startswith(\"@v\"):\n",
    "        reading = line.split()[1]\n",
    "        if sign and unic and not form:\n",
    "            maybeadd(reading, unic, sign)\n",
    "        if sign and funic and  form:\n",
    "            maybeadd(reading, funic, sign)\n",
    "        \n",
    "    if line.startswith(\"@ucode\"):\n",
    "        if form:\n",
    "            funic = unistr2unicode(line.split()[1])\n",
    "        else:\n",
    "            unic = unistr2unicode(line.split()[1])\n",
    "    #if line.startswith(\"@uname\"):\n",
    "    #    uname = unistr2unicode(line.split(maxsplit=1))[1]\n",
    "        \n",
    "    if line.startswith(\"@form\"):\n",
    "        form = True\n",
    "        foo, formcode, sign, *foo = line.split()\n",
    "    if line==\"@end form\":\n",
    "        form = False\n",
    "        if sign and funic:\n",
    "            maybeadd(sign, funic)\n",
    "        funic = None\n",
    "        sign = None\n",
    "    if line.startswith(\"@form\"):\n",
    "        pass\n",
    "mapping['darengal']"
   ]
  },
  {
   "cell_type": "code",
   "execution_count": 110,
   "metadata": {},
   "outputs": [
    {
     "data": {
      "text/plain": [
       "'\"#%&\\'()+,-./0123456789:?@ABDEFGHIKLMNOPRSTUWXZ[]abcdefghijklmnopqrstuvwxyz{}~'"
      ]
     },
     "execution_count": 110,
     "metadata": {},
     "output_type": "execute_result"
    }
   ],
   "source": [
    "valid_chars = ''.join(sorted(list(set(''.join(k for k in mapping.keys())))))\n",
    "#''.join(k for k in mapping.keys())\n",
    "valid_chars"
   ]
  },
  {
   "cell_type": "code",
   "execution_count": 111,
   "metadata": {},
   "outputs": [],
   "source": [
    "inf = \"\"\n",
    "with open(\"ibus-tables-cuneiform_pre.txt\",'r') as infile:\n",
    "    inf = infile.read()\n",
    "    inf = inf.replace('{VALID_INPUTS}', valid_chars)\n",
    "with open(\"ibus-tables-cuneiform.txt\",'w') as outfile:\n",
    "    outfile.write(inf)\n",
    "    for reading, vals in mapping.items():\n",
    "        if len(vals)>1:\n",
    "            for unic,name in vals:\n",
    "                outfile.write(f\"{reading}({name})\\t{unic}\\t0\\t### {name}\\n\")\n",
    "        else:\n",
    "            unic,name = vals.pop()\n",
    "            outfile.write(f\"{reading}\\t{unic}\\t0\\t### {name}\\n\")\n",
    "    outfile.write(\"END_TABLE\")"
   ]
  }
 ],
 "metadata": {
  "kernelspec": {
   "display_name": "Python 3",
   "language": "python",
   "name": "python3"
  },
  "language_info": {
   "codemirror_mode": {
    "name": "ipython",
    "version": 3
   },
   "file_extension": ".py",
   "mimetype": "text/x-python",
   "name": "python",
   "nbconvert_exporter": "python",
   "pygments_lexer": "ipython3",
   "version": "3.7.4"
  }
 },
 "nbformat": 4,
 "nbformat_minor": 4
}
