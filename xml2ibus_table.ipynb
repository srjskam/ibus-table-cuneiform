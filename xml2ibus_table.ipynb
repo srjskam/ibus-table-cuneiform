{
 "cells": [
  {
   "cell_type": "code",
   "execution_count": 1,
   "metadata": {},
   "outputs": [],
   "source": [
    "from xml.dom import minidom\n",
    "\n",
    "x = minidom.parse('ogsl-sl.xml')\n",
    "\n"
   ]
  },
  {
   "cell_type": "code",
   "execution_count": 2,
   "metadata": {},
   "outputs": [],
   "source": [
    "reps = [\n",
    "['š','sz'],\n",
    "['Š','SZ'],\n",
    "['ṣ','s,'],\n",
    "['Ṣ','S,'],\n",
    "['ṭ','t,'],\n",
    "['Ṭ','T,'],\n",
    "['ś',\"s'\"],\n",
    "['Ś',\"S'\"],\n",
    "['ʾ',\"'\"],\n",
    "['₀','0'],\n",
    "['₁','1'],\n",
    "['₂','2'],\n",
    "['₃','3'],\n",
    "['₄','4'],\n",
    "['₅','5'],\n",
    "['₆','6'],\n",
    "['₇','7'],\n",
    "['₈','8'],\n",
    "['₉','9'],\n",
    "['ₓ','x'],\n",
    "['ḫ','h,'],\n",
    "['Ḫ','H,'],\n",
    "['ŋ','j'],\n",
    "['Ŋ','J'],\n",
    "['û','u'],\n",
    "['ā','aa'],\n",
    "['ē','ee'],\n",
    "['ī','ii'],\n",
    "['ū','uu']\n",
    "]\n",
    "\n",
    "def normalize(s):\n",
    "    for fro, to in reps:\n",
    "        s=s.replace(fro, to)\n",
    "    return s\n",
    "    "
   ]
  },
  {
   "cell_type": "code",
   "execution_count": 46,
   "metadata": {},
   "outputs": [],
   "source": []
  },
  {
   "cell_type": "code",
   "execution_count": 70,
   "metadata": {},
   "outputs": [],
   "source": [
    "def maybeadd(reading,unic,name=''):\n",
    "    reading=normalize(reading)\n",
    "    name=normalize(name)\n",
    "    if reading not in mapping:\n",
    "        mapping[reading]={(unic,name)}\n",
    "    else:\n",
    "        mapping[reading].add((unic,name))\n"
   ]
  },
  {
   "cell_type": "code",
   "execution_count": 71,
   "metadata": {},
   "outputs": [
    {
     "data": {
      "text/plain": [
       "{('𒀀𒇉𒌓𒉣𒆠', 'A.LAGAB×HAL.UD.NUN.KI'), ('𒌓𒉣', 'UD.NUN')}"
      ]
     },
     "execution_count": 71,
     "metadata": {},
     "output_type": "execute_result"
    }
   ],
   "source": [
    "mapping = {}\n",
    "\n",
    "for sign in x.getElementsByTagName('sign'):\n",
    "    name = sign.attributes['n'].value.strip('|')\n",
    "    unicodestr=''\n",
    "    for child in sign.childNodes:\n",
    "        if child.tagName == 'utf8':\n",
    "            unicodestr = (child.childNodes[0].nodeValue)\n",
    "        if child.tagName == 'v':\n",
    "            reading = child.attributes['n'].value\n",
    "            maybeadd(reading, unicodestr, name)\n",
    "    if unicodestr!= '':\n",
    "        maybeadd(name, unicodestr)\n",
    "    for form in sign.getElementsByTagName('form'):\n",
    "        name = form.attributes['n'].value.strip('|')\n",
    "        #print(name)\n",
    "        maybec = form.getElementsByTagName('g:c')\n",
    "        unicodestr=''\n",
    "        try:\n",
    "            if len(maybec)>0 :\n",
    "                unicodestr = maybec[0].attributes['g:utf8'].value\n",
    "            else:\n",
    "                unicodestr = form.getElementsByTagName('g:s')[0].attributes['g:utf8'].value\n",
    "        except :\n",
    "            pass\n",
    "        for reading in form.getElementsByTagName('v'):\n",
    "            if unicodestr != '':\n",
    "                maybeadd(reading.attributes['n'].value, unicodestr, name)\n",
    "        if unicodestr!= '':\n",
    "            maybeadd(name, unicodestr)\n",
    "\n",
    "mapping['darengal']"
   ]
  },
  {
   "cell_type": "code",
   "execution_count": 72,
   "metadata": {},
   "outputs": [
    {
     "data": {
      "text/plain": [
       "' \"%&\\'()+,-./0123456789:?@ABDEFGHIKLMNOPRSTUWXZ[]abcdefghijklmnopqrstuvwxyz{}~×'"
      ]
     },
     "execution_count": 72,
     "metadata": {},
     "output_type": "execute_result"
    }
   ],
   "source": [
    "valid_chars = ''.join(sorted(list(set(''.join(k for k in mapping.keys())))))\n",
    "#''.join(k for k in mapping.keys())\n",
    "valid_chars"
   ]
  },
  {
   "cell_type": "code",
   "execution_count": 73,
   "metadata": {},
   "outputs": [],
   "source": [
    "inf = \"\"\n",
    "with open(\"ibus-tables-cuneiform_pre.txt\",'r') as infile:\n",
    "    inf = infile.read()\n",
    "    inf = inf.replace('{VALID_INPUTS}', valid_chars)\n",
    "with open(\"ibus-tables-cuneiform.txt\",'w') as outfile:\n",
    "    outfile.write(inf)\n",
    "    for reading, vals in mapping.items():\n",
    "        if len(vals)>1:\n",
    "            for unic,name in vals:\n",
    "                outfile.write(f\"{reading}({name})\\t{unic}\\t0\\t### {name}\\n\")\n",
    "        else:\n",
    "            unic,name = vals.pop()\n",
    "            outfile.write(f\"{reading}\\t{unic}\\t0\\t### {name}\\n\")\n",
    "    outfile.write(\"END_TABLE\")"
   ]
  }
 ],
 "metadata": {
  "kernelspec": {
   "display_name": "Python 3",
   "language": "python",
   "name": "python3"
  },
  "language_info": {
   "codemirror_mode": {
    "name": "ipython",
    "version": 3
   },
   "file_extension": ".py",
   "mimetype": "text/x-python",
   "name": "python",
   "nbconvert_exporter": "python",
   "pygments_lexer": "ipython3",
   "version": "3.7.4"
  }
 },
 "nbformat": 4,
 "nbformat_minor": 4
}
